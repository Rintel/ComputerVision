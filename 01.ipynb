{
 "cells": [
  {
   "cell_type": "markdown",
   "metadata": {},
   "source": [
    "# Assignment 1"
   ]
  },
  {
   "cell_type": "markdown",
   "metadata": {},
   "source": [
    "## Exercise 1.1"
   ]
  },
  {
   "cell_type": "markdown",
   "metadata": {},
   "source": [
    "rough sketch for ex 1.2:\n",
    "\n",
    "1. define the „positive“ subspace P in the RGB cube\n",
    "2. iterate over all pixels in I and check if in P or ~P\n",
    "3. write result to new image\n",
    "4. play around with size and shape of P and display binary image (**RESULT**)\n",
    "\n"
   ]
  },
  {
   "cell_type": "code",
   "execution_count": 6,
   "metadata": {},
   "outputs": [
    {
     "name": "stdout",
     "output_type": "stream",
     "text": [
      "hallo\n",
      "[[254 242 226]\n",
      " [254 241 224]\n",
      " [255 241 222]\n",
      " ...\n",
      " [254 245 236]\n",
      " [254 244 234]\n",
      " [252 242 232]]\n"
     ]
    }
   ],
   "source": [
    "%matplotlib inline \n",
    "from skimage import io, data, color\n",
    "import numpy as np\n",
    "\n",
    "image = io.imread('testbilder/1_klein.jpg')\n",
    "schwellwert = [104,22,43]\n",
    "bereich=30\n",
    "\n",
    "for line in image:\n",
    "    for pixel in line:\n",
    "        isRCase=pixel[0] >(schwellwert[0]+bereich) or pixel[0]<(schwellwert[0]-bereich)\n",
    "        isGCase=pixel[1] >(schwellwert[1]+bereich) or pixel[1]<(schwellwert[1]-bereich)\n",
    "        isBCase=pixel[2] >(schwellwert[2]+bereich) or pixel[2]<(schwellwert[2]-bereich)\n",
    "        if isRCase and isGCase and isBCase:\n",
    "            pixel=[255,255,255]\n",
    "        else:\n",
    "            pixel=[0,0,0]\n",
    "\n"
   ]
  },
  {
   "cell_type": "markdown",
   "metadata": {},
   "source": [
    "## Exercise 1.2"
   ]
  },
  {
   "cell_type": "markdown",
   "metadata": {},
   "source": [
    "* starting from the binary color detection image\n",
    "* erase noise with an erosion operation\n",
    "* dilate once to get original size of object\n",
    "* find connected components with one-pass algorithm\n",
    "* extract bounding box on the fly\n",
    "* draw bounding box on original image (**RESULT**)"
   ]
  },
  {
   "cell_type": "code",
   "execution_count": null,
   "metadata": {},
   "outputs": [],
   "source": []
  },
  {
   "cell_type": "markdown",
   "metadata": {},
   "source": [
    "## Exercise 1.3"
   ]
  },
  {
   "cell_type": "markdown",
   "metadata": {},
   "source": [
    "* use your color detection and connected components algorithm\n",
    "* implement simplest tracking algorithm\n",
    "* draw history of all previous points on frame (**RESULT**)"
   ]
  },
  {
   "cell_type": "code",
   "execution_count": null,
   "metadata": {},
   "outputs": [],
   "source": []
  }
 ],
 "metadata": {
  "kernelspec": {
   "display_name": "Python 3",
   "language": "python",
   "name": "python3"
  },
  "language_info": {
   "codemirror_mode": {
    "name": "ipython",
    "version": 3
   },
   "file_extension": ".py",
   "mimetype": "text/x-python",
   "name": "python",
   "nbconvert_exporter": "python",
   "pygments_lexer": "ipython3",
   "version": "3.6.0"
  }
 },
 "nbformat": 4,
 "nbformat_minor": 2
}
