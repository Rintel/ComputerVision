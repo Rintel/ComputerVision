{
 "cells": [
  {
   "cell_type": "markdown",
   "metadata": {},
   "source": [
    "# Assignment 1"
   ]
  },
  {
   "cell_type": "markdown",
   "metadata": {},
   "source": [
    "## Exercise 1.1"
   ]
  },
  {
   "cell_type": "markdown",
   "metadata": {},
   "source": [
    "rough sketch for ex 1.2:\n",
    "\n",
    "1. define the „positive“ subspace P in the RGB cube\n",
    "2. iterate over all pixels in I and check if in P or ~P\n",
    "3. write result to new image\n",
    "4. play around with size and shape of P and display binary image (**RESULT**)\n",
    "\n"
   ]
  },
  {
   "cell_type": "code",
   "execution_count": 18,
   "metadata": {},
   "outputs": [
    {
     "name": "stderr",
     "output_type": "stream",
     "text": [
      "A:\\Users\\Antje\\Anaconda3\\lib\\site-packages\\skimage\\io\\_plugins\\matplotlib_plugin.py:51: FutureWarning: Conversion of the second argument of issubdtype from `float` to `np.floating` is deprecated. In future, it will be treated as `np.float64 == np.dtype(float).type`.\n",
      "  out_of_range_float = (np.issubdtype(image.dtype, np.float) and\n"
     ]
    },
    {
     "data": {
      "image/png": "[encoded data removed]",
      "text/plain": [
       "<matplotlib.figure.Figure at 0x2f7ef30eb8>"
      ]
     },
     "metadata": {},
     "output_type": "display_data"
    }
   ],
   "source": [
    "%matplotlib inline \n",
    "from skimage import io, data, color\n",
    "import numpy as np\n",
    "\n",
    "image = io.imread('testbilder/1_klein.jpg')\n",
    "schwellwert = [104,22,43]\n",
    "bereich = 30\n",
    "\n",
    "count_rows = image.shape[0]\n",
    "count_collumns = image.shape[1]\n",
    "\n",
    "new_image = np.empty_like(image)\n",
    "\n",
    "for x in range(count_rows):\n",
    "    for y in range(count_collumns):\n",
    "        pixel = image[x][y]\n",
    "        \n",
    "        isRCase = (schwellwert[0] - bereich) < pixel[0] < (schwellwert[0] + bereich)\n",
    "        isGCase = (schwellwert[1] - bereich) < pixel[1] < (schwellwert[1] + bereich)\n",
    "        isBCase = (schwellwert[2] - bereich) < pixel[2] < (schwellwert[2] + bereich)\n",
    "        if isRCase and isGCase and isBCase:\n",
    "            new_image[x][y] = np.array([255,255,255])\n",
    "        else:\n",
    "            new_image[x][y] = np.array([0,0,0])\n",
    "\n",
    "new_image[40][1] = np.array([0,0,0])\n",
    "io.imshow(new_image)\n",
    "io.imsave(\"1_klein.jpg\",new_image)\n"
   ]
  },
  {
   "cell_type": "markdown",
   "metadata": {},
   "source": [
    "## Exercise 1.2"
   ]
  },
  {
   "cell_type": "markdown",
   "metadata": {},
   "source": [
    "* starting from the binary color detection image\n",
    "* erase noise with an erosion operation\n",
    "* dilate once to get original size of object\n",
    "* find connected components with one-pass algorithm\n",
    "* extract bounding box on the fly\n",
    "* draw bounding box on original image (**RESULT**)"
   ]
  },
  {
   "cell_type": "code",
   "execution_count": 26,
   "metadata": {},
   "outputs": [
    {
     "name": "stderr",
     "output_type": "stream",
     "text": [
      "A:\\Users\\Antje\\Anaconda3\\lib\\site-packages\\skimage\\io\\_plugins\\matplotlib_plugin.py:51: FutureWarning: Conversion of the second argument of issubdtype from `float` to `np.floating` is deprecated. In future, it will be treated as `np.float64 == np.dtype(float).type`.\n",
      "  out_of_range_float = (np.issubdtype(image.dtype, np.float) and\n"
     ]
    },
    {
     "data": {
      "image/png": "[encoded data removed]",
      "text/plain": [
       "<matplotlib.figure.Figure at 0x2f010bcf28>"
      ]
     },
     "metadata": {},
     "output_type": "display_data"
    }
   ],
   "source": [
    "%matplotlib inline \n",
    "from skimage import io, data, color\n",
    "import numpy as np\n",
    "\n",
    "image = io.imread('1_klein.jpg')\n",
    "#io.imshow(image)\n",
    "\n",
    "def erosion (image):\n",
    "    count_rows = image.shape[0]\n",
    "    count_collumns = image.shape[1]\n",
    "\n",
    "    new_image = np.empty_like(image)\n",
    "    white=np.array([255,255,255])\n",
    "    black=np.array([0,0,0])\n",
    "\n",
    "    for x in range(1, count_rows -1):\n",
    "        for y in range(1, count_collumns -1):\n",
    "            pixel = np.array(image[x][y])\n",
    "            kernel = np.array([image[x + 1][y], image[x - 1][y],image[x][y - 1], image[x][ y + 1]])\n",
    "            if np.array_equal(pixel,white):\n",
    "                zahl=0\n",
    "                for i in range(4):\n",
    "                    if np.array_equal(kernel[i],white):\n",
    "                        zahl+=1\n",
    "                if (zahl<1):\n",
    "                    new_image[x][y] = np.array(black)\n",
    "\n",
    "    #new_image[40][1] = np.array([0,0,0])\n",
    "    io.imshow(new_image)\n",
    "    #io.imsave(\"1_klein.jpg\",new_image)\n",
    "\n",
    "erosion(image)\n",
    "\n",
    "\n"
   ]
  },
  {
   "cell_type": "markdown",
   "metadata": {},
   "source": [
    "## Exercise 1.3"
   ]
  },
  {
   "cell_type": "markdown",
   "metadata": {},
   "source": [
    "* use your color detection and connected components algorithm\n",
    "* implement simplest tracking algorithm\n",
    "* draw history of all previous points on frame (**RESULT**)"
   ]
  },
  {
   "cell_type": "code",
   "execution_count": null,
   "metadata": {},
   "outputs": [],
   "source": []
  }
 ],
 "metadata": {
  "kernelspec": {
   "display_name": "Python 3",
   "language": "python",
   "name": "python3"
  },
  "language_info": {
   "codemirror_mode": {
    "name": "ipython",
    "version": 3
   },
   "file_extension": ".py",
   "mimetype": "text/x-python",
   "name": "python",
   "nbconvert_exporter": "python",
   "pygments_lexer": "ipython3",
   "version": "3.6.4"
  }
 },
 "nbformat": 4,
 "nbformat_minor": 2
}
