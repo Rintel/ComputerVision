{
 "cells": [
  {
   "cell_type": "markdown",
   "metadata": {},
   "source": [
    "# Assignment 1"
   ]
  },
  {
   "cell_type": "markdown",
   "metadata": {},
   "source": [
    "## Exercise 1.1"
   ]
  },
  {
   "cell_type": "markdown",
   "metadata": {},
   "source": [
    "rough sketch for ex 1.2:\n",
    "\n",
    "1. define the „positive“ subspace P in the RGB cube\n",
    "2. iterate over all pixels in I and check if in P or ~P\n",
    "3. write result to new image\n",
    "4. play around with size and shape of P and display binary image (**RESULT**)\n",
    "\n"
   ]
  },
  {
   "cell_type": "code",
   "execution_count": 6,
   "metadata": {},
   "outputs": [
    {
     "name": "stderr",
     "output_type": "stream",
     "text": [
      "A:\\Users\\Antje\\Anaconda3\\lib\\site-packages\\skimage\\io\\_plugins\\matplotlib_plugin.py:51: FutureWarning: Conversion of the second argument of issubdtype from `float` to `np.floating` is deprecated. In future, it will be treated as `np.float64 == np.dtype(float).type`.\n",
      "  out_of_range_float = (np.issubdtype(image.dtype, np.float) and\n"
     ]
    },
    {
     "data": {
      "image/png": "[encoded data removed]",
      "text/plain": [
       "<matplotlib.figure.Figure at 0x360c2acd68>"
      ]
     },
     "metadata": {},
     "output_type": "display_data"
    }
   ],
   "source": [
    "%matplotlib inline \n",
    "from skimage import io, data, color\n",
    "import numpy as np\n",
    "\n",
    "image = io.imread(\"testbilder/1_klein.jpg\")\n",
    "schwellwert = [104,22,43]\n",
    "bereich = 30\n",
    "\n",
    "count_rows = image.shape[0]\n",
    "count_collumns = image.shape[1]\n",
    "\n",
    "new_image = np.empty_like(image)\n",
    "\n",
    "for x in range(count_rows):\n",
    "    for y in range(count_collumns):\n",
    "        pixel = image[x][y]\n",
    "        \n",
    "        isRCase = (schwellwert[0] - bereich) < pixel[0] < (schwellwert[0] + bereich)\n",
    "        isGCase = (schwellwert[1] - bereich) < pixel[1] < (schwellwert[1] + bereich)\n",
    "        isBCase = (schwellwert[2] - bereich) < pixel[2] < (schwellwert[2] + bereich)\n",
    "        if isRCase and isGCase and isBCase:\n",
    "            new_image[x][y] = np.array([255,255,255])\n",
    "        else:\n",
    "            new_image[x][y] = np.array([0,0,0])\n",
    "\n",
    "new_image[40][1] = np.array([0,0,0])\n",
    "io.imshow(new_image)\n",
    "io.imsave(\"1_klein.jpg\",new_image)\n"
   ]
  },
  {
   "cell_type": "markdown",
   "metadata": {},
   "source": [
    "## Exercise 1.2"
   ]
  },
  {
   "cell_type": "markdown",
   "metadata": {},
   "source": [
    "* starting from the binary color detection image\n",
    "* erase noise with an erosion operation\n",
    "* dilate once to get original size of object\n",
    "* find connected components with one-pass algorithm\n",
    "* extract bounding box on the fly\n",
    "* draw bounding box on original image (**RESULT**)"
   ]
  },
  {
   "cell_type": "code",
   "execution_count": 7,
   "metadata": {},
   "outputs": [
    {
     "name": "stdout",
     "output_type": "stream",
     "text": [
      "test\n",
      "hi\n",
      "hi\n",
      "hi\n",
      "hi\n",
      "hi\n",
      "hi\n",
      "hi\n",
      "hi\n",
      "hi\n",
      "hi\n",
      "hi\n",
      "hi\n",
      "hi\n",
      "hi\n",
      "hi\n",
      "hi\n",
      "hi\n",
      "hi\n",
      "hi\n",
      "hi\n",
      "hi\n",
      "hi\n",
      "hi\n",
      "hi\n",
      "hi\n",
      "hi\n",
      "hi\n",
      "hi\n",
      "hi\n",
      "hi\n",
      "done\n"
     ]
    },
    {
     "name": "stderr",
     "output_type": "stream",
     "text": [
      "A:\\Users\\Antje\\Anaconda3\\lib\\site-packages\\skimage\\io\\_io.py:132: UserWarning: 1_klein_erosion.jpg is a low contrast image\n",
      "  warn('%s is a low contrast image' % fname)\n",
      "A:\\Users\\Antje\\Anaconda3\\lib\\site-packages\\skimage\\io\\_plugins\\matplotlib_plugin.py:51: FutureWarning: Conversion of the second argument of issubdtype from `float` to `np.floating` is deprecated. In future, it will be treated as `np.float64 == np.dtype(float).type`.\n",
      "  out_of_range_float = (np.issubdtype(image.dtype, np.float) and\n",
      "A:\\Users\\Antje\\Anaconda3\\lib\\site-packages\\skimage\\io\\_plugins\\matplotlib_plugin.py:74: UserWarning: Low image data range; displaying image with stretched contrast.\n",
      "  warn(\"Low image data range; displaying image with \"\n"
     ]
    },
    {
     "data": {
      "image/png": "[encoded data removed]",
      "text/plain": [
       "<matplotlib.figure.Figure at 0x360b0412b0>"
      ]
     },
     "metadata": {},
     "output_type": "display_data"
    }
   ],
   "source": [
    "%matplotlib inline \n",
    "from skimage import io, data, color\n",
    "import numpy as np\n",
    "\n",
    "image = io.imread(\"1_klein.jpg\")\n",
    "#io.imshow(image)\n",
    "print(\"test\")\n",
    "def erosion (image):\n",
    "    count_rows = image.shape[0]\n",
    "    count_collumns = image.shape[1]\n",
    "\n",
    "    new_image = np.empty_like(image)\n",
    "    white=np.array([255,255,255])\n",
    "    black=np.array([0,0,0])\n",
    "\n",
    "    for x in range(1, count_rows -1):\n",
    "        for y in range(1, count_collumns -1):\n",
    "            pixel = np.array(image[x][y])\n",
    "            kernel = np.array([image[x + 1][y], image[x - 1][y],image[x][y - 1], image[x][ y + 1]])\n",
    "            if np.array_equal(pixel,white):\n",
    "                zahl=0\n",
    "                for i in range(4):\n",
    "                    if np.array_equal(kernel[i],white):\n",
    "                        zahl+=1\n",
    "                if (zahl<1):\n",
    "                    new_image[x][y] = np.array(black)\n",
    "\n",
    "    return(new_image)\n",
    "    #new_image[40][1] = np.array([0,0,0])\n",
    "    #io.imshow(new_image)\n",
    "    io.imsave(\"1_klein_erosion.jpg\",new_image)\n",
    "\n",
    "\n",
    "\n",
    "def dilate (image):#hauptsächlich kopie der oberen Funktion; einziger unterschied liegt beim kernel-if und dass weiß gemalt wird\n",
    "    count_rows = image.shape[0]\n",
    "    count_collumns = image.shape[1]\n",
    "\n",
    "    new_image = np.empty_like(image)\n",
    "    white=np.array([255,255,255])\n",
    "    black=np.array([0,0,0])\n",
    "\n",
    "    for x in range(1, count_rows -1):\n",
    "        for y in range(1, count_collumns -1):\n",
    "            pixel = np.array(image[x][y])\n",
    "            kernel = np.array([image[x + 1][y], image[x - 1][y],image[x][y - 1], image[x][ y + 1]])\n",
    "            if np.array_equal(pixel,white):\n",
    "                zahl=0\n",
    "                for i in range(4):\n",
    "                    if np.array_equal(kernel[i],white):\n",
    "                        zahl+=1\n",
    "                if (zahl>1):#oder >=\n",
    "                    new_image[x][y] = np.array(white)\n",
    "    return(new_image)\n",
    "\n",
    "    #new_image[40][1] = np.array([0,0,0])\n",
    "    #io.imshow(new_image)\n",
    "    #io.imsave(\"1_klein.jpg\",new_image)\n",
    "    \n",
    "\n",
    "def components(image):\n",
    "#nach beschreibung von \"One component at a time\" im Artikel \"Connected-component labeling\" vom englischen Wikipedia\n",
    "    count_rows = image.shape[0]\n",
    "    count_collumns = image.shape[1]\n",
    "    \n",
    "    new_image = np.empty_like(image)\n",
    "    \n",
    "    matrix=np.empty_like(image)\n",
    "    for x in range(count_rows):\n",
    "        for y in range(count_collumns):\n",
    "            matrix[x][y]=0\n",
    "            \n",
    "    white=np.array([255,255,255])\n",
    "    black=np.array([0,0,0])\n",
    "    queue=[]\n",
    "    component_list=[]\n",
    "    component=[]\n",
    "    comp_number=1\n",
    "    \n",
    "    for x in range(1, count_rows -1):\n",
    "        for y in range(1, count_collumns -1):\n",
    "            pixel = np.array(image[x][y])\n",
    "            if np.array_equal(pixel,white):\n",
    "                element=[x,y,comp_number]\n",
    "                if (element not in component) and (matrix[element[0]][element[1]]==0):\n",
    "                    queue=queue.append(element)\n",
    "                    while(queue != []):\n",
    "                        elem= queue.pop()\n",
    "                        kernel = np.array([[elem[0] + 1],[elem[1]]], [[elem[0] - 1],[elem[1]]],[[elem[0]],[elem[1] - 1]], [[elem[0]][ elem[1] + 1]])\n",
    "                        for i in range(4):\n",
    "                            if (np.array_equal(image[kernel[i][0]][kernel[i][1]],white)) and (matrix[kernel[i][0]][kernel[i][1]]==0):\n",
    "                                queue=queue.append([kernel[i][0],kernel[i][1],comp_number])\n",
    "                                matrix[kernel[i][0]][kernel[i][1]]=comp_number\n",
    "                        component=component.append(elem)\n",
    "                component_number+=1\n",
    "    print(\"components\")\n",
    "    #io.imshow(new_image)\n",
    "    return(component_list)\n",
    "\n",
    "\n",
    "def bounding_box(image):\n",
    "    corners=[]\n",
    "    for i in range(30):\n",
    "        print(\"hi\")\n",
    "        image = erosion(image)\n",
    "    io.imsave(\"1_klein_erosion.jpg\",image)\n",
    "    io.imshow(image)\n",
    "\n",
    "    \n",
    "\n",
    "bounding_box(image)\n",
    "\n",
    "\n",
    "print(\"done\")\n",
    "        \n",
    "            \n",
    "        \n",
    "                                     \n",
    "\n",
    "\n"
   ]
  },
  {
   "cell_type": "markdown",
   "metadata": {},
   "source": [
    "## Exercise 1.3"
   ]
  },
  {
   "cell_type": "markdown",
   "metadata": {},
   "source": [
    "* use your color detection and connected components algorithm\n",
    "* implement simplest tracking algorithm\n",
    "* draw history of all previous points on frame (**RESULT**)"
   ]
  },
  {
   "cell_type": "code",
   "execution_count": null,
   "metadata": {},
   "outputs": [],
   "source": []
  }
 ],
 "metadata": {
  "kernelspec": {
   "display_name": "Python 3",
   "language": "python",
   "name": "python3"
  },
  "language_info": {
   "codemirror_mode": {
    "name": "ipython",
    "version": 3
   },
   "file_extension": ".py",
   "mimetype": "text/x-python",
   "name": "python",
   "nbconvert_exporter": "python",
   "pygments_lexer": "ipython3",
   "version": "3.6.0"
  }
 },
 "nbformat": 4,
 "nbformat_minor": 2
}
