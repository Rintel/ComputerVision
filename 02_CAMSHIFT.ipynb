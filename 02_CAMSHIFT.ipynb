{
 "cells": [
  {
   "cell_type": "markdown",
   "metadata": {},
   "source": [
    "# Assigment 2: CAMSHIFT\n",
    "## Paper\n",
    "Lies das Paper \"Bradski_etal_1998_camshift.pdf\" im KVV (unter \"Resources\"). \n",
    "\n",
    "## Histogramm berechnen\n",
    "* Implementiere eine Funktion, die ein Farbhistogramm erstellt. Übergebe entweder ein Bild und ein ROI, oder das dem ROI unterliegende Bild. \n",
    "* Hierzu ermögliche durch die Übergabe eines zweiten (bzw. dritten) Parameters die Zusammenfassung von Farbwerten in n Bins. \n",
    "* Lade das Bild \"images/racecar.png\" und konvertiere das Bild in den HSV-Farbraum. Plotte den Hue-Kanal. (**RESULT**)"
   ]
  },
  {
   "cell_type": "code",
   "execution_count": 37,
   "metadata": {},
   "outputs": [
    {
     "name": "stdout",
     "output_type": "stream",
     "text": [
      "[0.61111111 0.14383562 0.57254902]\n",
      "{0.0: 0, 0.00390625: 1, 0.0078125: 2, 0.01171875: 3, 0.015625: 4, 0.01953125: 5, 0.0234375: 6, 0.02734375: 7, 0.03125: 8, 0.03515625: 9, 0.0390625: 10, 0.04296875: 11, 0.046875: 12, 0.05078125: 13, 0.0546875: 14, 0.05859375: 15, 0.0625: 16, 0.06640625: 17, 0.0703125: 18, 0.07421875: 19, 0.078125: 20, 0.08203125: 21, 0.0859375: 22, 0.08984375: 23, 0.09375: 24, 0.09765625: 25, 0.1015625: 26, 0.10546875: 27, 0.109375: 28, 0.11328125: 29, 0.1171875: 30, 0.12109375: 31, 0.125: 32, 0.12890625: 33, 0.1328125: 34, 0.13671875: 35, 0.140625: 36, 0.14453125: 37, 0.1484375: 38, 0.15234375: 39, 0.15625: 40, 0.16015625: 41, 0.1640625: 42, 0.16796875: 43, 0.171875: 44, 0.17578125: 45, 0.1796875: 46, 0.18359375: 47, 0.1875: 48, 0.19140625: 49, 0.1953125: 50, 0.19921875: 51, 0.203125: 52, 0.20703125: 53, 0.2109375: 54, 0.21484375: 55, 0.21875: 56, 0.22265625: 57, 0.2265625: 58, 0.23046875: 59, 0.234375: 60, 0.23828125: 61, 0.2421875: 62, 0.24609375: 63, 0.25: 64, 0.25390625: 65, 0.2578125: 66, 0.26171875: 67, 0.265625: 68, 0.26953125: 69, 0.2734375: 70, 0.27734375: 71, 0.28125: 72, 0.28515625: 73, 0.2890625: 74, 0.29296875: 75, 0.296875: 76, 0.30078125: 77, 0.3046875: 78, 0.30859375: 79, 0.3125: 80, 0.31640625: 81, 0.3203125: 82, 0.32421875: 83, 0.328125: 84, 0.33203125: 85, 0.3359375: 86, 0.33984375: 87, 0.34375: 88, 0.34765625: 89, 0.3515625: 90, 0.35546875: 91, 0.359375: 92, 0.36328125: 93, 0.3671875: 94, 0.37109375: 95, 0.375: 96, 0.37890625: 97, 0.3828125: 98, 0.38671875: 99, 0.390625: 100, 0.39453125: 101, 0.3984375: 102, 0.40234375: 103, 0.40625: 104, 0.41015625: 105, 0.4140625: 106, 0.41796875: 107, 0.421875: 108, 0.42578125: 109, 0.4296875: 110, 0.43359375: 111, 0.4375: 112, 0.44140625: 113, 0.4453125: 114, 0.44921875: 115, 0.453125: 116, 0.45703125: 117, 0.4609375: 118, 0.46484375: 119, 0.46875: 120, 0.47265625: 121, 0.4765625: 122, 0.48046875: 123, 0.484375: 124, 0.48828125: 125, 0.4921875: 126, 0.49609375: 127, 0.5: 128, 0.50390625: 129, 0.5078125: 130, 0.51171875: 131, 0.515625: 132, 0.51953125: 133, 0.5234375: 134, 0.52734375: 135, 0.53125: 136, 0.53515625: 137, 0.5390625: 138, 0.54296875: 139, 0.546875: 140, 0.55078125: 141, 0.5546875: 142, 0.55859375: 143, 0.5625: 144, 0.56640625: 145, 0.5703125: 146, 0.57421875: 147, 0.578125: 148, 0.58203125: 149, 0.5859375: 150, 0.58984375: 151, 0.59375: 152, 0.59765625: 153, 0.6015625: 154, 0.60546875: 155, 0.609375: 156, 0.61328125: 157, 0.6171875: 158, 0.62109375: 159, 0.625: 160, 0.62890625: 161, 0.6328125: 162, 0.63671875: 163, 0.640625: 164, 0.64453125: 165, 0.6484375: 166, 0.65234375: 167, 0.65625: 168, 0.66015625: 169, 0.6640625: 170, 0.66796875: 171, 0.671875: 172, 0.67578125: 173, 0.6796875: 174, 0.68359375: 175, 0.6875: 176, 0.69140625: 177, 0.6953125: 178, 0.69921875: 179, 0.703125: 180, 0.70703125: 181, 0.7109375: 182, 0.71484375: 183, 0.71875: 184, 0.72265625: 185, 0.7265625: 186, 0.73046875: 187, 0.734375: 188, 0.73828125: 189, 0.7421875: 190, 0.74609375: 191, 0.75: 192, 0.75390625: 193, 0.7578125: 194, 0.76171875: 195, 0.765625: 196, 0.76953125: 197, 0.7734375: 198, 0.77734375: 199, 0.78125: 200, 0.78515625: 201, 0.7890625: 202, 0.79296875: 203, 0.796875: 204, 0.80078125: 205, 0.8046875: 206, 0.80859375: 207, 0.8125: 208, 0.81640625: 209, 0.8203125: 210, 0.82421875: 211, 0.828125: 212, 0.83203125: 213, 0.8359375: 214, 0.83984375: 215, 0.84375: 216, 0.84765625: 217, 0.8515625: 218, 0.85546875: 219, 0.859375: 220, 0.86328125: 221, 0.8671875: 222, 0.87109375: 223, 0.875: 224, 0.87890625: 225, 0.8828125: 226, 0.88671875: 227, 0.890625: 228, 0.89453125: 229, 0.8984375: 230, 0.90234375: 231, 0.90625: 232, 0.91015625: 233, 0.9140625: 234, 0.91796875: 235, 0.921875: 236, 0.92578125: 237, 0.9296875: 238, 0.93359375: 239, 0.9375: 240, 0.94140625: 241, 0.9453125: 242, 0.94921875: 243, 0.953125: 244, 0.95703125: 245, 0.9609375: 246, 0.96484375: 247, 0.96875: 248, 0.97265625: 249, 0.9765625: 250, 0.98046875: 251, 0.984375: 252, 0.98828125: 253, 0.9921875: 254, 0.99609375: 255}\n"
     ]
    },
    {
     "data": {
      "image/png": "[encoded data removed]",
      "text/plain": [
       "<Figure size 432x288 with 1 Axes>"
      ]
     },
     "metadata": {},
     "output_type": "display_data"
    },
    {
     "name": "stdout",
     "output_type": "stream",
     "text": [
      "[  0.   25.5  51.   76.5 102.  127.5 153.  178.5 204.  229.5 255. ]\n"
     ]
    }
   ],
   "source": [
    "# dieser Code wurde als Musterlösung von Tobias Schülke zur Verfügung gestellt und von Tim renoviert\n",
    "\n",
    "%matplotlib inline \n",
    "from skimage import io,color\n",
    "import numpy as np\n",
    "from matplotlib import pyplot as plt\n",
    "import matplotlib.patches as patches\n",
    "import os\n",
    "import warnings; warnings.simplefilter('ignore')\n",
    "\n",
    "\n",
    "IMAGES_PER_ROW = 4\n",
    "\n",
    "MIN_SATURATION_CAR = 0.2\n",
    "MIN_VALUE_CAR = 0.5\n",
    "MIN_SATURATION_TACO = 0.8\n",
    "MIN_VALUE_TACO = 0.2\n",
    "\n",
    "ROI_FRAME_MARGIN_CAR = 60\n",
    "ROI_FRAME_MARGIN_TACO = 20\n",
    "\n",
    "\n",
    "image = io.imread('images/racecar.png')\n",
    "imageCar = image[260:350, 480:640]\n",
    "\"\"\"\n",
    "fig = plt.figure(figsize=(15, 10))\n",
    "ax1 = plt.subplot(1, 2, 1)\n",
    "ax2 = plt.subplot(1, 2, 2)\n",
    "\"\"\"\n",
    "# ...\n",
    "\n",
    "ax1.imshow(image)\n",
    "ax2.imshow(imageCar)\n",
    "\n",
    "# ...\n",
    "\n",
    "def createColorHistogram(img, binCount = 256, out = plt):\n",
    "    roi = color.rgb2hsv(imageCar)\n",
    "    #io.imshow(roi)\n",
    "    \n",
    "    buckets = {}\n",
    "    \n",
    "    for i in range(256):\n",
    "        buckets[i/256] = i\n",
    "    \n",
    "    for x in range(roi.shape[0]):\n",
    "        for y in range(roi.shape[1]):\n",
    "            print(roi[x][y])\n",
    "            break\n",
    "        break\n",
    "    \n",
    "    print(buckets)    \n",
    "    n, bins, patches = plt.hist(list(buckets.values()),  facecolor='g', alpha=0.75)  \n",
    "    plt.show()\n",
    "    \n",
    "    print(bins)\n",
    "\n",
    "createColorHistogram(image)\n"
   ]
  },
  {
   "cell_type": "markdown",
   "metadata": {},
   "source": [
    "* stelle das Histogramm über dem Hue-Kanal für das gesamte Bild und für den Ausschnitt (x,y) = (480, 260) bis (640, 350) dar. Variiere auch mal testweise die Zahl der Bins(**RESULT**)\n"
   ]
  },
  {
   "cell_type": "code",
   "execution_count": 2,
   "metadata": {},
   "outputs": [
    {
     "data": {
      "image/png": "[encoded data removed]",
      "text/plain": [
       "<Figure size 1080x720 with 2 Axes>"
      ]
     },
     "metadata": {},
     "output_type": "display_data"
    }
   ],
   "source": [
    "fig = plt.figure(figsize=(15, 10))\n",
    "ax1 = plt.subplot(1, 2, 1)\n",
    "ax2 = plt.subplot(1, 2, 2)\n",
    "    \n",
    "# histCar100 = createColorHistogram(imageCar, 100, ax1)\n",
    "# histCar10 = createColorHistogram(imageCar, 10, ax1)\n"
   ]
  },
  {
   "cell_type": "markdown",
   "metadata": {},
   "source": [
    "## Wahrscheinlichkeitsverteilung\n",
    "* implementiere die Methode aus der Vorlesung, die Dir - gegeben ein Hue-Histogramm - die Objekt-Wahrscheinlichkeitsverteilung für ein neues Bild berechnet. \n",
    "* erzeuge das Histogramm des Autos aus dem Bild \"racecar.png\" und wende die neue Funktion auf das letzte frame des Videos (images/racecar/151.jpg) an (**RESULT**)"
   ]
  },
  {
   "cell_type": "code",
   "execution_count": 10,
   "metadata": {
    "scrolled": true
   },
   "outputs": [],
   "source": [
    "# Tip: in der Nacht sind alle Katzen grau ;)\n",
    "# def createProbDistribution(image, objectHist, nbins, minSaturation, minValue):\n",
    "    #...\n",
    "            \n",
    "lastFrame = io.imread('images/racecar/151.jpeg')\n",
    "# histogramCar = createColorHistogram(imageCar, nbins, ax1)\n",
    "# probDistr = createProbDistribution(lastFrame, histogramCar, nbins, MIN_SATURATION_CAR, MIN_VALUE_CAR)\n",
    "# io.imshow(probDistr)"
   ]
  },
  {
   "cell_type": "markdown",
   "metadata": {},
   "source": [
    "### ROI auf Bild anzeigen\n"
   ]
  },
  {
   "cell_type": "code",
   "execution_count": 13,
   "metadata": {},
   "outputs": [],
   "source": [
    "def drawROI(image, x, y, width, height, out = plt):\n",
    "    currentAxis = plt.gca()\n",
    "    currentAxis.add_patch(\n",
    "        patches.Rectangle(\n",
    "            (x, y),\n",
    "            width,\n",
    "            height,\n",
    "            fill=False,\n",
    "            edgecolor=\"red\"\n",
    "        )\n",
    "    )\n",
    "    \n",
    "    out.imshow(image)\n",
    "\n",
    "# showRoiFrame(image, 480, 260, 160, 90)"
   ]
  },
  {
   "cell_type": "markdown",
   "metadata": {},
   "source": [
    "##  Exercise 1.2 - Mean Shift\n",
    "* Implementiere die Verschiebung und des ROI wie in der Vorlesung beschrieben. Teste den Algorithmus auf den Bildfolgen \"images/racecar/*.jpg\" oder \"images/taco/*.jpg\". Wähle das Tracking-Fenster geeignet (zur Reduktion der Dateigröße habe ich die Bilder um Faktor 2 verkleinert, d.h. die ROI von oben muss entsprechend angepasst werden). \n",
    "* Zeichne als Ausgabe die Trajektorie (die Bewegungsspur) der Objekte, wie durch CAMSHIFT zurückgegeben. (**RESULT**)"
   ]
  },
  {
   "cell_type": "code",
   "execution_count": null,
   "metadata": {
    "scrolled": false
   },
   "outputs": [],
   "source": []
  },
  {
   "cell_type": "markdown",
   "metadata": {
    "collapsed": true
   },
   "source": [
    "##  Exercise 1.2 - CAMSHIFT\n",
    "* erweitere Deinen Algorithmus um die Anpassung der Größe des ROI und das Finden der Objektorientierung\n",
    "* führe den Algorithmus wieder auf eine der Bildfolgen aus und zeichne eine Ellipse auf das Bild, die die gefundenen Parameter repräsentiert (**RESULT**)"
   ]
  },
  {
   "cell_type": "code",
   "execution_count": null,
   "metadata": {},
   "outputs": [],
   "source": []
  }
 ],
 "metadata": {
  "anaconda-cloud": {},
  "kernelspec": {
   "display_name": "Python 3",
   "language": "python",
   "name": "python3"
  },
  "language_info": {
   "codemirror_mode": {
    "name": "ipython",
    "version": 3
   },
   "file_extension": ".py",
   "mimetype": "text/x-python",
   "name": "python",
   "nbconvert_exporter": "python",
   "pygments_lexer": "ipython3",
   "version": "3.6.0"
  }
 },
 "nbformat": 4,
 "nbformat_minor": 1
}
