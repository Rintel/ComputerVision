{
 "cells": [
  {
   "cell_type": "markdown",
   "metadata": {},
   "source": [
    "# Assigment 2: CAMSHIFT\n",
    "## Paper\n",
    "Lies das Paper \"Bradski_etal_1998_camshift.pdf\" im KVV (unter \"Resources\"). \n",
    "\n",
    "## Histogramm berechnen\n",
    "* Implementiere eine Funktion, die ein Farbhistogramm erstellt. Übergebe entweder ein Bild und ein ROI, oder das dem ROI unterliegende Bild. \n",
    "* Hierzu ermögliche durch die Übergabe eines zweiten (bzw. dritten) Parameters die Zusammenfassung von Farbwerten in n Bins. \n",
    "* Lade das Bild \"images/racecar.png\" und konvertiere das Bild in den HSV-Farbraum. Plotte den Hue-Kanal. (**RESULT**)"
   ]
  },
  {
   "cell_type": "code",
   "execution_count": null,
   "metadata": {
    "scrolled": true
   },
   "outputs": [],
   "source": [
    "# dieser Code wurde als Musterlösung von Tobias Schülke zur Verfügung gestellt und von Tim renoviert\n",
    "\n",
    "%matplotlib inline \n",
    "from skimage import io,color\n",
    "import numpy as np\n",
    "from matplotlib import pyplot as plt\n",
    "import matplotlib.patches as patches\n",
    "import os\n",
    "import warnings; warnings.simplefilter('ignore')\n",
    "import math\n",
    "IMAGES_PER_ROW = 4\n",
    "\n",
    "MIN_SATURATION_CAR = 0.2\n",
    "MIN_VALUE_CAR = 0.5\n",
    "MIN_SATURATION_TACO = 0.8\n",
    "MIN_VALUE_TACO = 0.2\n",
    "\n",
    "ROI_FRAME_MARGIN_CAR = 60\n",
    "ROI_FRAME_MARGIN_TACO = 20\n",
    "\n",
    "image = io.imread('images/racecar.png')\n",
    "imageCar = image[260:350, 480:640]\n",
    "\n",
    "# ...\n",
    "\n",
    "def createColorHistogram(img, binCount = 256, out = plt):\n",
    "    roi = color.rgb2hsv(img)\n",
    "    #initialize list for plotting\n",
    "    pixel = []   \n",
    "    #search and count pixel hues\n",
    "    for x in range(roi.shape[0]):\n",
    "        for y in range(roi.shape[1]):\n",
    "            hue = roi[x][y][0]\n",
    "            pixel.append(hue)\n",
    "            \n",
    "    #fig, axs = out.subplots()\n",
    "    n, bins, patches = out.hist(pixel, binCount,  facecolor='g', alpha=0.75) \n",
    "    \n",
    "    bar_colors = []\n",
    "\n",
    "    \n",
    "    # prepare color list for the bucket colors\n",
    "    for i in range(binCount):\n",
    "        current_bin_color_hsv = np.array([[[i/float(binCount), 1, 1]]], dtype=np.float) # hsv ist between 0 and 1\n",
    "        bar_color_rgb = color.hsv2rgb(current_bin_color_hsv)\n",
    "        bar_color_rgb_norm = (bar_color_rgb[0][0][0],bar_color_rgb[0][0][1], bar_color_rgb[0][0][2])\n",
    "        bar_colors.append(bar_color_rgb_norm)        \n",
    "    \n",
    "    # set bucket colors\n",
    "    for thispatch, i in zip(patches, range(binCount)):\n",
    "        thispatch.set_facecolor(bar_colors[i])\n",
    "    return n, bins, patches\n",
    "    \n",
    "    \n",
    "createColorHistogram(image)\n",
    "plt.show()\n",
    "\n",
    "img_hsv = color.rgb2hsv(image)\n",
    "img_hsv[:, :, 1] = 1\n",
    "img_hsv[:, :, 2] = 1\n",
    "img_rgb = color.hsv2rgb(img_hsv)\n",
    "io.imshow(img_rgb)\n"
   ]
  },
  {
   "cell_type": "markdown",
   "metadata": {},
   "source": [
    "* stelle das Histogramm über dem Hue-Kanal für das gesamte Bild und für den Ausschnitt (x,y) = (480, 260) bis (640, 350) dar. Variiere auch mal testweise die Zahl der Bins(**RESULT**)\n"
   ]
  },
  {
   "cell_type": "code",
   "execution_count": null,
   "metadata": {
    "scrolled": true
   },
   "outputs": [],
   "source": [
    "fig = plt.figure(figsize=(15, 10))\n",
    "ax1 = plt.subplot(1, 2, 1)\n",
    "ax2 = plt.subplot(1, 2, 2)\n",
    "    \n",
    "histCar100 = createColorHistogram(imageCar, 100, ax1)\n",
    "\n",
    "histCar10 = createColorHistogram(imageCar, 10, ax2)\n",
    "\n",
    "plt.savefig('testbilder/car_100 and_10_bins.png')\n",
    "\n"
   ]
  },
  {
   "cell_type": "markdown",
   "metadata": {},
   "source": [
    "## Wahrscheinlichkeitsverteilung\n",
    "* implementiere die Methode aus der Vorlesung, die Dir - gegeben ein Hue-Histogramm - die Objekt-Wahrscheinlichkeitsverteilung für ein neues Bild berechnet. \n",
    "* erzeuge das Histogramm des Autos aus dem Bild \"racecar.png\" und wende die neue Funktion auf das letzte frame des Videos (images/racecar/151.jpg) an (**RESULT**)"
   ]
  },
  {
   "cell_type": "code",
   "execution_count": 1,
   "metadata": {
    "scrolled": true
   },
   "outputs": [
    {
     "ename": "NameError",
     "evalue": "name 'io' is not defined",
     "output_type": "error",
     "traceback": [
      "\u001b[1;31m---------------------------------------------------------------------------\u001b[0m",
      "\u001b[1;31mNameError\u001b[0m                                 Traceback (most recent call last)",
      "\u001b[1;32m<ipython-input-1-9ffb03b7b619>\u001b[0m in \u001b[0;36m<module>\u001b[1;34m()\u001b[0m\n\u001b[0;32m     15\u001b[0m     \u001b[1;32mreturn\u001b[0m \u001b[0mprobDistribution\u001b[0m\u001b[1;33m\u001b[0m\u001b[0m\n\u001b[0;32m     16\u001b[0m \u001b[1;33m\u001b[0m\u001b[0m\n\u001b[1;32m---> 17\u001b[1;33m \u001b[0mlastFrame\u001b[0m \u001b[1;33m=\u001b[0m \u001b[0mio\u001b[0m\u001b[1;33m.\u001b[0m\u001b[0mimread\u001b[0m\u001b[1;33m(\u001b[0m\u001b[1;34m'images/racecar/151.jpeg'\u001b[0m\u001b[1;33m)\u001b[0m\u001b[1;33m\u001b[0m\u001b[0m\n\u001b[0m\u001b[0;32m     18\u001b[0m \u001b[1;31m#lastFrame = imageCar\u001b[0m\u001b[1;33m\u001b[0m\u001b[1;33m\u001b[0m\u001b[0m\n\u001b[0;32m     19\u001b[0m \u001b[0mimageCar\u001b[0m\u001b[1;33m\u001b[0m\u001b[0m\n",
      "\u001b[1;31mNameError\u001b[0m: name 'io' is not defined"
     ]
    }
   ],
   "source": [
    "# Tipp: in der Nacht sind alle Katzen grau ;)\n",
    "def createProbDistribution(image, objectHist, nbins, minSaturation, minValue):\n",
    "    probDistribution = np.empty_like(image)\n",
    "    image_hsv = color.rgb2hsv(image)\n",
    "    n, bins, patches = objectHist\n",
    "    mass_of_histogramm = np.sum(n)\n",
    "    for x in range(image_hsv.shape[0]):\n",
    "        for y in range(image_hsv.shape[1]):\n",
    "            current_pixel = image_hsv[x][y]\n",
    "            current_hue = current_pixel[0]\n",
    "            current_bin = math.floor(current_hue*nbins)\n",
    "            number_of_counts = n[current_bin]\n",
    "            relative_frequency = n[current_bin]/mass_of_histogramm\n",
    "            probDistribution[x][y] = np.array([relative_frequency,relative_frequency,relative_frequency])*255   \n",
    "    return probDistribution\n",
    "            \n",
    "lastFrame = io.imread('images/racecar/151.jpeg')\n",
    "#lastFrame = imageCar\n",
    "imageCar\n",
    "nbins = 255\n",
    "histogramCar = createColorHistogram(imageCar, nbins, ax1)\n",
    "probDistr = createProbDistribution(lastFrame, histogramCar, nbins, MIN_SATURATION_CAR, MIN_VALUE_CAR)\n",
    "io.imshow(probDistr)\n"
   ]
  },
  {
   "cell_type": "markdown",
   "metadata": {},
   "source": [
    "### ROI auf Bild anzeigen\n"
   ]
  },
  {
   "cell_type": "code",
   "execution_count": null,
   "metadata": {},
   "outputs": [],
   "source": [
    "def drawROI(image, x, y, width, height, out = plt):\n",
    "    currentAxis = plt.gca()\n",
    "    currentAxis.add_patch(\n",
    "        patches.Rectangle(\n",
    "            (x, y),\n",
    "            width,\n",
    "            height,\n",
    "            fill=False,\n",
    "            edgecolor=\"red\"\n",
    "        )\n",
    "    )\n",
    "    \n",
    "    out.imshow(image)\n",
    "\n",
    "# showRoiFrame(image, 480, 260, 160, 90)"
   ]
  },
  {
   "cell_type": "markdown",
   "metadata": {},
   "source": [
    "##  Exercise 1.2 - Mean Shift\n",
    "* Implementiere die Verschiebung und des ROI wie in der Vorlesung beschrieben. Teste den Algorithmus auf den Bildfolgen \"images/racecar/*.jpg\" oder \"images/taco/*.jpg\". Wähle das Tracking-Fenster geeignet (zur Reduktion der Dateigröße habe ich die Bilder um Faktor 2 verkleinert, d.h. die ROI von oben muss entsprechend angepasst werden). \n",
    "* Zeichne als Ausgabe die Trajektorie (die Bewegungsspur) der Objekte, wie durch CAMSHIFT zurückgegeben. (**RESULT**)"
   ]
  },
  {
   "cell_type": "code",
   "execution_count": null,
   "metadata": {
    "scrolled": false
   },
   "outputs": [],
   "source": []
  },
  {
   "cell_type": "markdown",
   "metadata": {
    "collapsed": true
   },
   "source": [
    "##  Exercise 1.2 - CAMSHIFT\n",
    "* erweitere Deinen Algorithmus um die Anpassung der Größe des ROI und das Finden der Objektorientierung\n",
    "* führe den Algorithmus wieder auf eine der Bildfolgen aus und zeichne eine Ellipse auf das Bild, die die gefundenen Parameter repräsentiert (**RESULT**)"
   ]
  },
  {
   "cell_type": "code",
   "execution_count": null,
   "metadata": {},
   "outputs": [],
   "source": []
  }
 ],
 "metadata": {
  "anaconda-cloud": {},
  "kernelspec": {
   "display_name": "Python 3",
   "language": "python",
   "name": "python3"
  },
  "language_info": {
   "codemirror_mode": {
    "name": "ipython",
    "version": 3
   },
   "file_extension": ".py",
   "mimetype": "text/x-python",
   "name": "python",
   "nbconvert_exporter": "python",
   "pygments_lexer": "ipython3",
   "version": "3.6.4"
  }
 },
 "nbformat": 4,
 "nbformat_minor": 1
}
