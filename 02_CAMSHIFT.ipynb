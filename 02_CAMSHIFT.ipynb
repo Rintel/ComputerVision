{
 "cells": [
  {
   "cell_type": "markdown",
   "metadata": {},
   "source": [
    "# Assigment 2: CAMSHIFT\n",
    "## Paper\n",
    "Lies das Paper \"Bradski_etal_1998_camshift.pdf\" im KVV (unter \"Resources\"). \n",
    "\n",
    "## Histogramm berechnen\n",
    "* Implementiere eine Funktion, die ein Farbhistogramm erstellt. Übergebe entweder ein Bild und ein ROI, oder das dem ROI unterliegende Bild. \n",
    "* Hierzu ermögliche durch die Übergabe eines zweiten (bzw. dritten) Parameters die Zusammenfassung von Farbwerten in n Bins. \n",
    "* Lade das Bild \"images/racecar.png\" und konvertiere das Bild in den HSV-Farbraum. Plotte den Hue-Kanal. (**RESULT**)"
   ]
  },
  {
   "cell_type": "code",
   "execution_count": 65,
   "metadata": {},
   "outputs": [
    {
     "data": {
      "image/png": "[encoded data removed]",
      "text/plain": [
       "<Figure size 432x288 with 1 Axes>"
      ]
     },
     "metadata": {},
     "output_type": "display_data"
    }
   ],
   "source": [
    "# dieser Code wurde als Musterlösung von Tobias Schülke zur Verfügung gestellt und von Tim renoviert\n",
    "\n",
    "%matplotlib inline \n",
    "from skimage import io,color\n",
    "import numpy as np\n",
    "from matplotlib import pyplot as plt\n",
    "import matplotlib.patches as patches\n",
    "import os\n",
    "import warnings; warnings.simplefilter('ignore')\n",
    "\n",
    "IMAGES_PER_ROW = 4\n",
    "\n",
    "MIN_SATURATION_CAR = 0.2\n",
    "MIN_VALUE_CAR = 0.5\n",
    "MIN_SATURATION_TACO = 0.8\n",
    "MIN_VALUE_TACO = 0.2\n",
    "\n",
    "ROI_FRAME_MARGIN_CAR = 60\n",
    "ROI_FRAME_MARGIN_TACO = 20\n",
    "\n",
    "image = io.imread('images/racecar.png')\n",
    "imageCar = image[260:350, 480:640]\n",
    "\"\"\"\n",
    "fig = plt.figure(figsize=(15, 10))\n",
    "ax1 = plt.subplot(1, 2, 1)\n",
    "ax2 = plt.subplot(1, 2, 2)\n",
    "\"\"\"\n",
    "# ...\n",
    "\n",
    "ax1.imshow(image)\n",
    "ax2.imshow(imageCar)\n",
    "\n",
    "# ...\n",
    "\n",
    "def createColorHistogram(img, binCount = 256, out = plt):\n",
    "    roi = color.rgb2hsv(imageCar)\n",
    "    #io.imshow(roi)\n",
    "    pixel = []\n",
    "    \n",
    "    for x in range(roi.shape[0]):\n",
    "        for y in range(roi.shape[1]):\n",
    "            pixel.append(roi[x][y][0])\n",
    "      \n",
    "    n, bins, patches = plt.hist(pixel, 255,  facecolor='g', alpha=0.75) \n",
    "    plt.show()\n",
    "    \n",
    "    \n",
    "    #list(buckets.keys()),list(buckets.values()),\n",
    "\n",
    "createColorHistogram(image)\n"
   ]
  },
  {
   "cell_type": "markdown",
   "metadata": {},
   "source": [
    "* stelle das Histogramm über dem Hue-Kanal für das gesamte Bild und für den Ausschnitt (x,y) = (480, 260) bis (640, 350) dar. Variiere auch mal testweise die Zahl der Bins(**RESULT**)\n"
   ]
  },
  {
   "cell_type": "code",
   "execution_count": 2,
   "metadata": {},
   "outputs": [
    {
     "data": {
      "image/png": "[encoded data removed]",
      "text/plain": [
       "<Figure size 1080x720 with 2 Axes>"
      ]
     },
     "metadata": {},
     "output_type": "display_data"
    }
   ],
   "source": [
    "fig = plt.figure(figsize=(15, 10))\n",
    "ax1 = plt.subplot(1, 2, 1)\n",
    "ax2 = plt.subplot(1, 2, 2)\n",
    "    \n",
    "# histCar100 = createColorHistogram(imageCar, 100, ax1)\n",
    "# histCar10 = createColorHistogram(imageCar, 10, ax1)\n"
   ]
  },
  {
   "cell_type": "markdown",
   "metadata": {},
   "source": [
    "## Wahrscheinlichkeitsverteilung\n",
    "* implementiere die Methode aus der Vorlesung, die Dir - gegeben ein Hue-Histogramm - die Objekt-Wahrscheinlichkeitsverteilung für ein neues Bild berechnet. \n",
    "* erzeuge das Histogramm des Autos aus dem Bild \"racecar.png\" und wende die neue Funktion auf das letzte frame des Videos (images/racecar/151.jpg) an (**RESULT**)"
   ]
  },
  {
   "cell_type": "code",
   "execution_count": 10,
   "metadata": {
    "scrolled": true
   },
   "outputs": [],
   "source": [
    "# Tip: in der Nacht sind alle Katzen grau ;)\n",
    "# def createProbDistribution(image, objectHist, nbins, minSaturation, minValue):\n",
    "    #...\n",
    "            \n",
    "lastFrame = io.imread('images/racecar/151.jpeg')\n",
    "# histogramCar = createColorHistogram(imageCar, nbins, ax1)\n",
    "# probDistr = createProbDistribution(lastFrame, histogramCar, nbins, MIN_SATURATION_CAR, MIN_VALUE_CAR)\n",
    "# io.imshow(probDistr)"
   ]
  },
  {
   "cell_type": "markdown",
   "metadata": {},
   "source": [
    "### ROI auf Bild anzeigen\n"
   ]
  },
  {
   "cell_type": "code",
   "execution_count": 13,
   "metadata": {},
   "outputs": [],
   "source": [
    "def drawROI(image, x, y, width, height, out = plt):\n",
    "    currentAxis = plt.gca()\n",
    "    currentAxis.add_patch(\n",
    "        patches.Rectangle(\n",
    "            (x, y),\n",
    "            width,\n",
    "            height,\n",
    "            fill=False,\n",
    "            edgecolor=\"red\"\n",
    "        )\n",
    "    )\n",
    "    \n",
    "    out.imshow(image)\n",
    "\n",
    "# showRoiFrame(image, 480, 260, 160, 90)"
   ]
  },
  {
   "cell_type": "markdown",
   "metadata": {},
   "source": [
    "##  Exercise 1.2 - Mean Shift\n",
    "* Implementiere die Verschiebung und des ROI wie in der Vorlesung beschrieben. Teste den Algorithmus auf den Bildfolgen \"images/racecar/*.jpg\" oder \"images/taco/*.jpg\". Wähle das Tracking-Fenster geeignet (zur Reduktion der Dateigröße habe ich die Bilder um Faktor 2 verkleinert, d.h. die ROI von oben muss entsprechend angepasst werden). \n",
    "* Zeichne als Ausgabe die Trajektorie (die Bewegungsspur) der Objekte, wie durch CAMSHIFT zurückgegeben. (**RESULT**)"
   ]
  },
  {
   "cell_type": "code",
   "execution_count": null,
   "metadata": {
    "scrolled": false
   },
   "outputs": [],
   "source": []
  },
  {
   "cell_type": "markdown",
   "metadata": {
    "collapsed": true
   },
   "source": [
    "##  Exercise 1.2 - CAMSHIFT\n",
    "* erweitere Deinen Algorithmus um die Anpassung der Größe des ROI und das Finden der Objektorientierung\n",
    "* führe den Algorithmus wieder auf eine der Bildfolgen aus und zeichne eine Ellipse auf das Bild, die die gefundenen Parameter repräsentiert (**RESULT**)"
   ]
  },
  {
   "cell_type": "code",
   "execution_count": null,
   "metadata": {},
   "outputs": [],
   "source": []
  }
 ],
 "metadata": {
  "anaconda-cloud": {},
  "kernelspec": {
   "display_name": "Python 3",
   "language": "python",
   "name": "python3"
  },
  "language_info": {
   "codemirror_mode": {
    "name": "ipython",
    "version": 3
   },
   "file_extension": ".py",
   "mimetype": "text/x-python",
   "name": "python",
   "nbconvert_exporter": "python",
   "pygments_lexer": "ipython3",
   "version": "3.6.0"
  }
 },
 "nbformat": 4,
 "nbformat_minor": 1
}
